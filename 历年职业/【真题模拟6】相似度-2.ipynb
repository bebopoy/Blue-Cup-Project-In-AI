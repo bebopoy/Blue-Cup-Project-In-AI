{
 "cells": [
  {
   "cell_type": "markdown",
   "metadata": {},
   "source": [
    "https://www.lanqiao.cn/courses/40981/learning/?id=2813918&compatibility=false\n",
    "\n",
    "```python\n",
    "import jieba\n",
    "from gensim.models import Word2Vec\n",
    "\n",
    "def process_dataset(file_path):\n",
    "    train_data = []\n",
    "    with open(file_path,\"r\") as f:\n",
    "        for sentences in f.readlines():\n",
    "            for s in sentences.split(\"。\"):\n",
    "                train_data.append(jieba.lcut(s.strip()))\n",
    "    return train_data\n",
    "\n",
    "def train_w2v_model(train_data, model_path=\"./word2vec_model.bin\"):\n",
    "    #TODO\n",
    "    model = Word2Vec(train_data, vector_size=100, window=5, min_count=1, workers=4)\n",
    "    model.save(model_path)\n",
    "\n",
    "def calculate_similarity(word1, word2, model_path=\"./word2vec_model.bin\"):\n",
    "    #TODO\n",
    "    model = Word2Vec.load(model_path)\n",
    "    if word1 not in model.wv.key_to_index or word2 not in model.wv.key_to_index:\n",
    "        return None\n",
    "    similarity = model.wv.similarity(word1, word2)\n",
    "    return similarity\n",
    "\n",
    "def main():\n",
    "    train_file_path = \"w2v_train_data.txt\"\n",
    "    train_data = process_dataset(train_file_path)\n",
    "    train_w2v_model(train_data)\n",
    "    word1,word2 = \"春节\",\"假期\"\n",
    "    similarity = calculate_similarity(word1, word2)\n",
    "    print(similarity)\n",
    "\n",
    "if __name__ == '__main__':\n",
    "    main()\n",
    "```\n",
    "# 查看类方法，一种是 实例化与未实例化\n",
    "python -c \"from gensim.models import Word2Vec;dir(Word2Vec.wv)\">>w2v_wv.txt\n",
    "\n",
    "python -c 'from gensim.models import Word2Vec;sentences = [[\"cat\", \"say\", \"meow\"], [\"dog\", \"say\", \n",
    "\"woof\"]];model = Word2Vec(sentences, min_count=1);help(model.wv)'>>modelWV.txt"
   ]
  }
 ],
 "metadata": {
  "language_info": {
   "name": "python"
  }
 },
 "nbformat": 4,
 "nbformat_minor": 2
}
