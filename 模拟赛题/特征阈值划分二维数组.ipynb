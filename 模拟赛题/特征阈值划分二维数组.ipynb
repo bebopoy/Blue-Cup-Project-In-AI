{
 "cells": [
  {
   "cell_type": "markdown",
   "metadata": {},
   "source": [
    "# 基于特征阈值划分数据集\n",
    "\n",
    "https://www.lanqiao.cn/problems/20005/learning/?contest_id=251\n",
    "\n",
    "重点在于\n",
    "* 根据阈值去取出数据的方法\n",
    "* 将一位数组转化为二维数组\n",
    "\n",
    "```python\n",
    "import numpy as np\n",
    "\n",
    "def divide_on_feature(X, feature_i, threshold):\n",
    "\n",
    "    if X.ndim == 1:\n",
    "        X = X.reshape(-1,1)\n",
    "\n",
    "    x = X[:,feature_i]\n",
    "    \n",
    "    subset1 = X[x>=threshold]\n",
    "    subset2 = X[x<threshold]\n",
    "\n",
    "    return [subset1,subset2]\n",
    "\n",
    "def main():\n",
    "    # 示例数据集\n",
    "    X = np.array([[1, 2],\n",
    "                  [3, 4],\n",
    "                  [5, 6],\n",
    "                  [7, 8],\n",
    "                  [9, 10]])\n",
    "    feature_i = 0\n",
    "    threshold = 5\n",
    "    \n",
    "    # 执行数据集划分\n",
    "    subsets = divide_on_feature(X, feature_i, threshold)\n",
    "    \n",
    "    print(\"Subset 1:\")\n",
    "    print(subsets[0])\n",
    "    print(\"\\nSubset 2:\")\n",
    "    print(subsets[1])\n",
    "    return\n",
    "\n",
    "if __name__ == '__main__':\n",
    "    main()\n",
    "\n",
    "```\n"
   ]
  }
 ],
 "metadata": {
  "language_info": {
   "name": "python"
  }
 },
 "nbformat": 4,
 "nbformat_minor": 2
}
