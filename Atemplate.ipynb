{
 "cells": [
  {
   "cell_type": "markdown",
   "metadata": {},
   "source": [
    "# \n",
    "网址： \n",
    "https://www.lanqiao.cn/courses/40981/learning/?id=2813915&compatibility=false \n",
    "\n",
    "# 原题\n",
    "```python \n",
    "\n",
    "```\n",
    "---\n",
    "# 手打题目\n",
    "```python \n",
    "\n",
    "\n",
    "```\n",
    "<mark>ERROR</mark>: \n",
    "* \n",
    "* \n",
    "\n",
    "---\n",
    "# 参考答案\n",
    "```python \n",
    "\n",
    "```"
   ]
  }
 ],
 "metadata": {
  "language_info": {
   "name": "python"
  }
 },
 "nbformat": 4,
 "nbformat_minor": 2
}
