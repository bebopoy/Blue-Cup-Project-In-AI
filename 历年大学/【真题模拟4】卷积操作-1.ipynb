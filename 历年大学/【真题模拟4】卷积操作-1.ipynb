{
 "cells": [
  {
   "cell_type": "markdown",
   "metadata": {},
   "source": [
    "# 图像预处理 卷积操作\n",
    "\n",
    "https://www.lanqiao.cn/courses/40981/learning/?id=2813906&compatibility=false\n",
    "\n",
    "<mark>ERROR</mark>: \n",
    "\n",
    "---\n",
    "# 手打答案\n",
    "```python\n",
    "import numpy as np\n",
    "\n",
    "def mean_filter(image, kernel_size):\n",
    "    old_height, old_width = image.shape\n",
    "\n",
    "    new_image = np.zeros(image.shape)\n",
    "    edge = int((kernel_size - 1) / 2)\n",
    "    \n",
    "    for i in range(old_height):\n",
    "        for j in range(old_width):\n",
    "\n",
    "            element = 0\n",
    "            no_noneNum = 0\n",
    "            for x in range(-edge, edge + 1, 1):\n",
    "                for y in range(-edge, edge + 1, 1):\n",
    "                    if(0 <= (i+x) < old_height) and (0 <= (j+y) <old_width):\n",
    "                        new_element = image[i+x,j+y] \n",
    "                        no_noneNum += 1\n",
    "                    else:\n",
    "                        new_element = 0\n",
    "\n",
    "                    element += new_element \n",
    "            new_image[i,j] = element / no_noneNum\n",
    "    \n",
    "    return new_image\n",
    "\n",
    "def main():\n",
    "    # 示例图像数据，一个4x4的numpy数组\n",
    "    image_data = np.array([[10, 20, 30, 40],\n",
    "                        [50, 60, 70, 80],\n",
    "                        [90, 100, 110, 120],\n",
    "                        [130, 140, 150, 160]])\n",
    "\n",
    "    # 应用均值滤波\n",
    "    filtered_image = mean_filter(image_data, 3)  # 使用3x3的滤波器\n",
    "    print(\"原始图像:\\n\", image_data)\n",
    "    print(\"滤波后的图像:\\n\", filtered_image)\n",
    "\n",
    "if __name__ == '__main__':\n",
    "    main()\n",
    "```"
   ]
  }
 ],
 "metadata": {
  "language_info": {
   "name": "python"
  }
 },
 "nbformat": 4,
 "nbformat_minor": 2
}
