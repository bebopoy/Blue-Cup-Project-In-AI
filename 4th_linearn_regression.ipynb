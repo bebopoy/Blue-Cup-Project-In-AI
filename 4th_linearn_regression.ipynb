{
 "cells": [
  {
   "cell_type": "markdown",
   "metadata": {},
   "source": [
    "# scikit-learn 实现线性回归\n",
    "\n",
    "我们学习了什么是最小二乘法，以及使用 Python 对最小二乘线性回归进行了完整实现。那么，我们如何利用机器学习开源模块 scikit-learn 实现最小二乘线性回归方法呢？\n",
    "\n",
    "使用 scikit-learn 实现线性回归的过程会简单很多，这里要用到 LinearRegression() 类 。看一下其中的参数：\n",
    "\n",
    "```\n",
    "sklearn.linear_model.LinearRegression(fit_intercept=True, normalize=False, copy_X=True, n_jobs=1)\n",
    "\n",
    "- fit_intercept: 默认为 True，计算截距项。\n",
    "- normalize: 默认为 False，不针对数据进行标准化处理。\n",
    "- copy_X: 默认为 True，即使用数据的副本进行操作，防止影响原数据。\n",
    "- n_jobs: 计算时的作业数量。默认为 1，若为 -1 则使用全部 CPU 参与运算。\n",
    "```"
   ]
  },
  {
   "cell_type": "code",
   "execution_count": 2,
   "metadata": {},
   "outputs": [
    {
     "name": "stdout",
     "output_type": "stream",
     "text": [
      "(506, 14)\n"
     ]
    },
    {
     "data": {
      "text/html": [
       "<div>\n",
       "<style scoped>\n",
       "    .dataframe tbody tr th:only-of-type {\n",
       "        vertical-align: middle;\n",
       "    }\n",
       "\n",
       "    .dataframe tbody tr th {\n",
       "        vertical-align: top;\n",
       "    }\n",
       "\n",
       "    .dataframe thead th {\n",
       "        text-align: right;\n",
       "    }\n",
       "</style>\n",
       "<table border=\"1\" class=\"dataframe\">\n",
       "  <thead>\n",
       "    <tr style=\"text-align: right;\">\n",
       "      <th></th>\n",
       "      <th>crim</th>\n",
       "      <th>zn</th>\n",
       "      <th>indus</th>\n",
       "      <th>chas</th>\n",
       "      <th>nox</th>\n",
       "      <th>rm</th>\n",
       "      <th>age</th>\n",
       "      <th>dis</th>\n",
       "      <th>rad</th>\n",
       "      <th>tax</th>\n",
       "      <th>ptratio</th>\n",
       "      <th>black</th>\n",
       "      <th>lstat</th>\n",
       "      <th>medv</th>\n",
       "    </tr>\n",
       "  </thead>\n",
       "  <tbody>\n",
       "    <tr>\n",
       "      <th>0</th>\n",
       "      <td>0.00632</td>\n",
       "      <td>18.0</td>\n",
       "      <td>2.31</td>\n",
       "      <td>0</td>\n",
       "      <td>0.538</td>\n",
       "      <td>6.575</td>\n",
       "      <td>65.2</td>\n",
       "      <td>4.0900</td>\n",
       "      <td>1</td>\n",
       "      <td>296</td>\n",
       "      <td>15.3</td>\n",
       "      <td>396.90</td>\n",
       "      <td>4.98</td>\n",
       "      <td>24.0</td>\n",
       "    </tr>\n",
       "    <tr>\n",
       "      <th>1</th>\n",
       "      <td>0.02731</td>\n",
       "      <td>0.0</td>\n",
       "      <td>7.07</td>\n",
       "      <td>0</td>\n",
       "      <td>0.469</td>\n",
       "      <td>6.421</td>\n",
       "      <td>78.9</td>\n",
       "      <td>4.9671</td>\n",
       "      <td>2</td>\n",
       "      <td>242</td>\n",
       "      <td>17.8</td>\n",
       "      <td>396.90</td>\n",
       "      <td>9.14</td>\n",
       "      <td>21.6</td>\n",
       "    </tr>\n",
       "    <tr>\n",
       "      <th>2</th>\n",
       "      <td>0.02729</td>\n",
       "      <td>0.0</td>\n",
       "      <td>7.07</td>\n",
       "      <td>0</td>\n",
       "      <td>0.469</td>\n",
       "      <td>7.185</td>\n",
       "      <td>61.1</td>\n",
       "      <td>4.9671</td>\n",
       "      <td>2</td>\n",
       "      <td>242</td>\n",
       "      <td>17.8</td>\n",
       "      <td>392.83</td>\n",
       "      <td>4.03</td>\n",
       "      <td>34.7</td>\n",
       "    </tr>\n",
       "    <tr>\n",
       "      <th>3</th>\n",
       "      <td>0.03237</td>\n",
       "      <td>0.0</td>\n",
       "      <td>2.18</td>\n",
       "      <td>0</td>\n",
       "      <td>0.458</td>\n",
       "      <td>6.998</td>\n",
       "      <td>45.8</td>\n",
       "      <td>6.0622</td>\n",
       "      <td>3</td>\n",
       "      <td>222</td>\n",
       "      <td>18.7</td>\n",
       "      <td>394.63</td>\n",
       "      <td>2.94</td>\n",
       "      <td>33.4</td>\n",
       "    </tr>\n",
       "    <tr>\n",
       "      <th>4</th>\n",
       "      <td>0.06905</td>\n",
       "      <td>0.0</td>\n",
       "      <td>2.18</td>\n",
       "      <td>0</td>\n",
       "      <td>0.458</td>\n",
       "      <td>7.147</td>\n",
       "      <td>54.2</td>\n",
       "      <td>6.0622</td>\n",
       "      <td>3</td>\n",
       "      <td>222</td>\n",
       "      <td>18.7</td>\n",
       "      <td>396.90</td>\n",
       "      <td>5.33</td>\n",
       "      <td>36.2</td>\n",
       "    </tr>\n",
       "  </tbody>\n",
       "</table>\n",
       "</div>"
      ],
      "text/plain": [
       "      crim    zn  indus  chas    nox     rm   age     dis  rad  tax  ptratio  \\\n",
       "0  0.00632  18.0   2.31     0  0.538  6.575  65.2  4.0900    1  296     15.3   \n",
       "1  0.02731   0.0   7.07     0  0.469  6.421  78.9  4.9671    2  242     17.8   \n",
       "2  0.02729   0.0   7.07     0  0.469  7.185  61.1  4.9671    2  242     17.8   \n",
       "3  0.03237   0.0   2.18     0  0.458  6.998  45.8  6.0622    3  222     18.7   \n",
       "4  0.06905   0.0   2.18     0  0.458  7.147  54.2  6.0622    3  222     18.7   \n",
       "\n",
       "    black  lstat  medv  \n",
       "0  396.90   4.98  24.0  \n",
       "1  396.90   9.14  21.6  \n",
       "2  392.83   4.03  34.7  \n",
       "3  394.63   2.94  33.4  \n",
       "4  396.90   5.33  36.2  "
      ]
     },
     "execution_count": 2,
     "metadata": {},
     "output_type": "execute_result"
    }
   ],
   "source": [
    "import pandas as pd\n",
    "\n",
    "df = pd.read_csv(\n",
    "    \"https://labfile.oss.aliyuncs.com/courses/1081/course-5-boston.csv\")\n",
    "print(df.shape)\n",
    "df.head()"
   ]
  },
  {
   "cell_type": "markdown",
   "metadata": {},
   "source": [
    "```\n",
    "每列数据的列名解释如下：\n",
    "\n",
    "CRIM: 城镇犯罪率。#\n",
    "ZN: 占地面积超过 2.5 万平方英尺的住宅用地比例。\n",
    "INDUS: 城镇非零售业务地区的比例。\n",
    "CHAS: 查尔斯河是否经过 (=1 经过，=0 不经过)。\n",
    "NOX: 一氧化氮浓度（每 1000 万份）。\n",
    "RM: 住宅平均房间数。#\n",
    "AGE: 所有者年龄。\n",
    "DIS: 与就业中心的距离。\n",
    "RAD: 公路可达性指数。\n",
    "TAX: 物业税率。\n",
    "PTRATIO: 城镇师生比例。\n",
    "BLACK: 城镇的黑人指数。\n",
    "LSTAT: 人口中地位较低人群的百分数。#\n",
    "MEDV: 城镇住房价格中位数。$\n",
    "```"
   ]
  },
  {
   "cell_type": "code",
   "execution_count": 3,
   "metadata": {},
   "outputs": [
    {
     "name": "stdout",
     "output_type": "stream",
     "text": [
      "(506, 3)\n"
     ]
    },
    {
     "data": {
      "text/html": [
       "<div>\n",
       "<style scoped>\n",
       "    .dataframe tbody tr th:only-of-type {\n",
       "        vertical-align: middle;\n",
       "    }\n",
       "\n",
       "    .dataframe tbody tr th {\n",
       "        vertical-align: top;\n",
       "    }\n",
       "\n",
       "    .dataframe thead th {\n",
       "        text-align: right;\n",
       "    }\n",
       "</style>\n",
       "<table border=\"1\" class=\"dataframe\">\n",
       "  <thead>\n",
       "    <tr style=\"text-align: right;\">\n",
       "      <th></th>\n",
       "      <th>crim</th>\n",
       "      <th>rm</th>\n",
       "      <th>lstat</th>\n",
       "    </tr>\n",
       "  </thead>\n",
       "  <tbody>\n",
       "    <tr>\n",
       "      <th>0</th>\n",
       "      <td>0.00632</td>\n",
       "      <td>6.575</td>\n",
       "      <td>4.98</td>\n",
       "    </tr>\n",
       "    <tr>\n",
       "      <th>1</th>\n",
       "      <td>0.02731</td>\n",
       "      <td>6.421</td>\n",
       "      <td>9.14</td>\n",
       "    </tr>\n",
       "    <tr>\n",
       "      <th>2</th>\n",
       "      <td>0.02729</td>\n",
       "      <td>7.185</td>\n",
       "      <td>4.03</td>\n",
       "    </tr>\n",
       "    <tr>\n",
       "      <th>3</th>\n",
       "      <td>0.03237</td>\n",
       "      <td>6.998</td>\n",
       "      <td>2.94</td>\n",
       "    </tr>\n",
       "    <tr>\n",
       "      <th>4</th>\n",
       "      <td>0.06905</td>\n",
       "      <td>7.147</td>\n",
       "      <td>5.33</td>\n",
       "    </tr>\n",
       "  </tbody>\n",
       "</table>\n",
       "</div>"
      ],
      "text/plain": [
       "      crim     rm  lstat\n",
       "0  0.00632  6.575   4.98\n",
       "1  0.02731  6.421   9.14\n",
       "2  0.02729  7.185   4.03\n",
       "3  0.03237  6.998   2.94\n",
       "4  0.06905  7.147   5.33"
      ]
     },
     "execution_count": 3,
     "metadata": {},
     "output_type": "execute_result"
    }
   ],
   "source": [
    "features = df[['crim', 'rm', 'lstat']]\n",
    "print(features.shape)\n",
    "features.head()"
   ]
  },
  {
   "cell_type": "code",
   "execution_count": 4,
   "metadata": {},
   "outputs": [
    {
     "name": "stdout",
     "output_type": "stream",
     "text": [
      "(506,)\n"
     ]
    },
    {
     "data": {
      "text/plain": [
       "0    24.0\n",
       "1    21.6\n",
       "2    34.7\n",
       "3    33.4\n",
       "4    36.2\n",
       "Name: medv, dtype: float64"
      ]
     },
     "execution_count": 4,
     "metadata": {},
     "output_type": "execute_result"
    }
   ],
   "source": [
    "target = df['medv']\n",
    "print(target.shape)\n",
    "target.head()"
   ]
  },
  {
   "cell_type": "markdown",
   "metadata": {},
   "source": [
    "## train test 3：7分割\n"
   ]
  },
  {
   "cell_type": "code",
   "execution_count": 5,
   "metadata": {},
   "outputs": [
    {
     "data": {
      "text/plain": [
       "506"
      ]
     },
     "execution_count": 5,
     "metadata": {},
     "output_type": "execute_result"
    }
   ],
   "source": [
    "len(features)"
   ]
  },
  {
   "cell_type": "code",
   "execution_count": 6,
   "metadata": {},
   "outputs": [],
   "source": [
    "split_num = int(len(features)*0.7)\n",
    "\n",
    "X_train = features[:split_num]\n",
    "y_train = target[:split_num]\n",
    "\n",
    "X_test = features[split_num:]\n",
    "y_test = target[split_num:]"
   ]
  },
  {
   "cell_type": "markdown",
   "metadata": {},
   "source": [
    "## 使用 scikit-learn 线性回归"
   ]
  },
  {
   "cell_type": "code",
   "execution_count": 7,
   "metadata": {},
   "outputs": [
    {
     "data": {
      "text/plain": [
       "(array([ 0.69979497, 10.13564218, -0.20532653]), -38.000969889690275)"
      ]
     },
     "execution_count": 7,
     "metadata": {},
     "output_type": "execute_result"
    }
   ],
   "source": [
    "from sklearn.linear_model import LinearRegression\n",
    "\n",
    "model = LinearRegression() # 训练\n",
    "model.fit(X_train, y_train)\n",
    "\n",
    "model.coef_ , model.intercept_ #输出参数 与 偏置\n",
    "\n",
    "# 参数有三，因为参考三个元素"
   ]
  },
  {
   "cell_type": "code",
   "execution_count": 8,
   "metadata": {},
   "outputs": [
    {
     "name": "stdout",
     "output_type": "stream",
     "text": [
      "<class 'numpy.ndarray'>\n"
     ]
    },
    {
     "data": {
      "text/plain": [
       "array([17.77439141, 21.09512448, 27.63412265, 26.78577951, 25.38313368,\n",
       "       24.3286313 , 28.4257879 , 25.12834727, 16.82806601, 20.76498858,\n",
       "       52.3350748 , -0.18169806, 12.01475786,  7.87878077, 15.13155699,\n",
       "       32.93748235, 37.07872049, 29.50613719, 25.50800832, 12.35867972,\n",
       "        9.08901644, 47.08374238, 35.31759193, 33.3738765 , 38.34913316,\n",
       "       33.10414639, 91.3556125 , 35.11735022, 19.69326952, 18.49805269,\n",
       "       14.03767555, 20.9235166 , 20.41406182, 21.92218226, 15.20451678,\n",
       "       18.05362998, 21.26289453, 23.18192502, 15.87149504, 27.70381826,\n",
       "       27.65958772, 30.17151829, 27.04987446, 21.52730227, 37.82614512,\n",
       "       22.09872387, 34.71166346, 32.07959454, 29.45253042, 29.51137956,\n",
       "       41.49935191, 62.4121152 , 13.64508882, 24.71242033, 18.69151684,\n",
       "       37.4909413 , 54.05864658, 34.94758034, 15.01355249, 30.17849355,\n",
       "       32.22191275, 33.90252834, 33.02530285, 28.4416789 , 69.60201087,\n",
       "       34.7617152 , 31.65353442, 24.5644437 , 24.78130285, 24.00864792,\n",
       "       21.03315696, 27.84982052, 26.50972924, 48.2345499 , 25.50590175,\n",
       "       28.25547265, 28.66087656, 34.2545407 , 29.15996676, 27.8072316 ,\n",
       "       31.54282066, 32.22024557, 33.8708737 , 29.54354233, 24.7407235 ,\n",
       "       20.90593331, 31.85967562, 29.72491232, 25.59151894, 30.83279914,\n",
       "       25.40734645, 23.01153504, 27.01673798, 28.92672135, 27.49385728,\n",
       "       28.34125465, 31.52461119, 29.61897187, 25.83925513, 39.26663855,\n",
       "       33.00756176, 27.73720999, 21.93359421, 24.42469533, 27.95623349,\n",
       "       25.37499479, 29.91401113, 26.20027081, 27.81044317, 29.97326914,\n",
       "       27.7027324 , 19.68280094, 21.44673441, 21.56041782, 29.24007222,\n",
       "       26.02322353, 24.20402765, 25.31745183, 26.79101418, 33.60357546,\n",
       "       18.91793831, 23.98036109, 27.29202266, 21.15709214, 28.14694161,\n",
       "       32.47276562, 27.13611459, 32.81994315, 36.13809753, 20.23338607,\n",
       "       20.43084078, 26.37366467, 24.87561302, 22.88298598, 13.67619651,\n",
       "       12.08004137,  7.6709438 , 19.00432321, 19.97736929, 17.49844989,\n",
       "       19.46809982, 15.97963066, 12.49219926, 18.01764782, 20.51997661,\n",
       "       15.46843536, 20.30123637, 26.88163963, 22.19647509, 31.58974789,\n",
       "       29.60675772, 21.5321567 ])"
      ]
     },
     "execution_count": 8,
     "metadata": {},
     "output_type": "execute_result"
    }
   ],
   "source": [
    "preds = model.predict(X_test)\n",
    "print(type(preds))\n",
    "preds"
   ]
  },
  {
   "cell_type": "code",
   "execution_count": 9,
   "metadata": {},
   "outputs": [],
   "source": [
    "import numpy as np\n",
    "\n",
    "# 绝对值平均误差 \n",
    "def mae_value(pre_output, ture_output):\n",
    "    n = len(pre_output)\n",
    "    return sum(np.abs(pre_output-ture_output))/n\n",
    "\n",
    "# 均方误差\n",
    "def mse_value(pre_output, ture_output):\n",
    "    n = len(pre_output)\n",
    "    return sum(np.square(pre_output-ture_output))/n\n"
   ]
  },
  {
   "cell_type": "code",
   "execution_count": 10,
   "metadata": {},
   "outputs": [
    {
     "name": "stdout",
     "output_type": "stream",
     "text": [
      "13.02206307278018 303.83312472235764\n"
     ]
    }
   ],
   "source": [
    "# 计算误差\n",
    "\n",
    "mae = mae_value(preds, y_test)\n",
    "mse = mse_value(preds, y_test)\n",
    "\n",
    "print(mae, mse)"
   ]
  }
 ],
 "metadata": {
  "kernelspec": {
   "display_name": "Python 3",
   "language": "python",
   "name": "python3"
  },
  "language_info": {
   "codemirror_mode": {
    "name": "ipython",
    "version": 3
   },
   "file_extension": ".py",
   "mimetype": "text/x-python",
   "name": "python",
   "nbconvert_exporter": "python",
   "pygments_lexer": "ipython3",
   "version": "3.8.10"
  }
 },
 "nbformat": 4,
 "nbformat_minor": 4
}
