{
 "cells": [
  {
   "cell_type": "code",
   "execution_count": 1,
   "id": "385b8171",
   "metadata": {},
   "outputs": [
    {
     "name": "stdout",
     "output_type": "stream",
     "text": [
      "局部最小值点：x = 0.9954803586006165, y = 0.9909628629684448, 对应的函数值：f(x, y) = tensor([2.0461e-05], grad_fn=<AddBackward0>), SGD 参数：{'state': {0: {'momentum_buffer': tensor([-0.0190])}, 1: {'momentum_buffer': tensor([-0.0379])}}, 'param_groups': [{'lr': 0.001, 'momentum': 0.9, 'dampening': 0, 'weight_decay': 0, 'nesterov': False, 'maximize': False, 'foreach': None, 'differentiable': False, 'params': [0, 1]}]}\n"
     ]
    }
   ],
   "source": [
    "import torch\n",
    "from torch.optim import Adam, SGD\n",
    "from typing import Tuple\n",
    "\n",
    "def rosenbrock_function(x: torch.Tensor, y: torch.Tensor, a: float=1., b: float=100.) -> torch.Tensor:\n",
    "\n",
    "    return (a - x)**2 + b * (y - x**2)**2\n",
    "\n",
    "def find_rosenbrock_minimum(max_iter: int) -> Tuple[float, float, float, SGD]:\n",
    "\n",
    "    x = torch.tensor([0.0], requires_grad=True)\n",
    "    y = torch.tensor([0.0], requires_grad=True)\n",
    "\n",
    "    #TODO\n",
    "    opt = SGD([x, y],lr=1e-3, momentum=0.9)\n",
    "    for i in range(max_iter):\n",
    "        opt.zero_grad()\n",
    "        loss = rosenbrock_function(x, y)\n",
    "        loss.backward()\n",
    "        opt.step()\n",
    "    loss = rosenbrock_function(x, y)\n",
    "    return x.item(), y.item(), loss, opt\n",
    "\n",
    "\n",
    "if __name__ == \"__main__\":\n",
    "    x_min, y_min, f_min, sgd = find_rosenbrock_minimum(max_iter=1000)\n",
    "    print(f\"局部最小值点：x = {x_min}, y = {y_min}, 对应的函数值：f(x, y) = {f_min}, SGD 参数：{sgd.state_dict()}\")"
   ]
  }
 ],
 "metadata": {
  "kernelspec": {
   "display_name": "base",
   "language": "python",
   "name": "python3"
  },
  "language_info": {
   "codemirror_mode": {
    "name": "ipython",
    "version": 3
   },
   "file_extension": ".py",
   "mimetype": "text/x-python",
   "name": "python",
   "nbconvert_exporter": "python",
   "pygments_lexer": "ipython3",
   "version": "3.11.7"
  }
 },
 "nbformat": 4,
 "nbformat_minor": 5
}
